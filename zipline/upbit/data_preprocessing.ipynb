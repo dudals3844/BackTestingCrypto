{
 "cells": [
  {
   "cell_type": "code",
   "execution_count": 180,
   "id": "188cea77",
   "metadata": {},
   "outputs": [],
   "source": [
    "import os\n",
    "import warnings\n",
    "\n",
    "warnings.filterwarnings('ignore')\n",
    "from pathlib import Path\n",
    "import pandas as pd\n",
    "from tqdm import tqdm\n",
    "import exchange_calendars as xcals\n",
    "import requests\n",
    "import json"
   ]
  },
  {
   "cell_type": "code",
   "execution_count": 17,
   "id": "ce2dd649",
   "metadata": {},
   "outputs": [],
   "source": [
    "always_open_calendars = xcals.get_calendar('24/7')"
   ]
  },
  {
   "cell_type": "markdown",
   "source": [
    "## Ticker 가져오기"
   ],
   "metadata": {
    "collapsed": false,
    "pycharm": {
     "name": "#%% md\n"
    }
   }
  },
  {
   "cell_type": "code",
   "execution_count": 77,
   "outputs": [],
   "source": [
    "ticker_url = 'http://127.0.0.1:8000/upbit/ticker/'\n",
    "response = requests.get('http://127.0.0.1:8000/upbit/ticker/')\n",
    "ticker_df = pd.DataFrame(json.loads(response.text))"
   ],
   "metadata": {
    "collapsed": false,
    "pycharm": {
     "name": "#%%\n"
    }
   }
  },
  {
   "cell_type": "code",
   "execution_count": 84,
   "outputs": [],
   "source": [
    "ticker_df = ticker_df[ticker_df['market'].str.contains('KRW')].reset_index().drop('index', axis=1)"
   ],
   "metadata": {
    "collapsed": false,
    "pycharm": {
     "name": "#%%\n"
    }
   }
  },
  {
   "cell_type": "code",
   "execution_count": 85,
   "outputs": [],
   "source": [
    "equities = ticker_df.reset_index().rename(columns={'index': 'sid', 'market': 'ticker', 'korean_name': 'name'}).loc[:, ['sid', 'ticker', 'name']]"
   ],
   "metadata": {
    "collapsed": false,
    "pycharm": {
     "name": "#%%\n"
    }
   }
  },
  {
   "cell_type": "markdown",
   "source": [
    "## Pickle 삭제"
   ],
   "metadata": {
    "collapsed": false,
    "pycharm": {
     "name": "#%% md\n"
    }
   }
  },
  {
   "cell_type": "code",
   "execution_count": 178,
   "outputs": [],
   "source": [
    "paths = Path('data').glob('*.pkl')"
   ],
   "metadata": {
    "collapsed": false,
    "pycharm": {
     "name": "#%%\n"
    }
   }
  },
  {
   "cell_type": "code",
   "execution_count": 181,
   "outputs": [],
   "source": [
    "for path in paths:\n",
    "    os.remove(path)"
   ],
   "metadata": {
    "collapsed": false,
    "pycharm": {
     "name": "#%%\n"
    }
   }
  },
  {
   "cell_type": "markdown",
   "source": [
    "## Price Data 가져오기"
   ],
   "metadata": {
    "collapsed": false,
    "pycharm": {
     "name": "#%% md\n"
    }
   }
  },
  {
   "cell_type": "code",
   "execution_count": 86,
   "id": "df888336",
   "metadata": {},
   "outputs": [],
   "source": [
    "paths = Path('data').glob('*.csv')"
   ]
  },
  {
   "cell_type": "code",
   "execution_count": 87,
   "id": "0efb8c3a",
   "metadata": {},
   "outputs": [],
   "source": [
    "paths = list(map(lambda x: x, paths))"
   ]
  },
  {
   "cell_type": "code",
   "execution_count": 88,
   "id": "d35464e8",
   "metadata": {},
   "outputs": [],
   "source": [
    "price = (pd.read_csv(paths[0], parse_dates=['candle_date_time_utc', 'candle_date_time_kst'])\n",
    "         .drop('Unnamed: 0', axis=1)\n",
    "         .rename(\n",
    "    columns={'candle_date_time_kst': 'date', 'opening_price': 'open', 'high_price': 'high', 'low_price': 'low',\n",
    "             'trade_price': 'close', 'candle_acc_trade_volume': 'volume'})\n",
    "         .set_index(['date'])\n",
    "         ).loc[:, ['open', 'high', 'low', 'close', 'volume']]"
   ]
  },
  {
   "cell_type": "code",
   "execution_count": 89,
   "outputs": [],
   "source": [
    "price = price.resample('1T').last()"
   ],
   "metadata": {
    "collapsed": false,
    "pycharm": {
     "name": "#%%\n"
    }
   }
  },
  {
   "cell_type": "code",
   "execution_count": 90,
   "outputs": [],
   "source": [
    "ohlc = price[['high', 'low', 'open', 'close']].fillna(method='ffill')"
   ],
   "metadata": {
    "collapsed": false,
    "pycharm": {
     "name": "#%%\n"
    }
   }
  },
  {
   "cell_type": "code",
   "execution_count": 91,
   "outputs": [],
   "source": [
    "v = price[['volume']].fillna(0)"
   ],
   "metadata": {
    "collapsed": false,
    "pycharm": {
     "name": "#%%\n"
    }
   }
  },
  {
   "cell_type": "code",
   "execution_count": 92,
   "outputs": [],
   "source": [
    "price = pd.concat([ohlc, v], axis=1)"
   ],
   "metadata": {
    "collapsed": false,
    "pycharm": {
     "name": "#%%\n"
    }
   }
  },
  {
   "cell_type": "code",
   "execution_count": 141,
   "outputs": [],
   "source": [
    "min_time = price.index.min().strftime(\"%Y-%m-%d\")\n",
    "max_time = price.index.max().strftime(\"%Y-%m-%d\")"
   ],
   "metadata": {
    "collapsed": false,
    "pycharm": {
     "name": "#%%\n"
    }
   }
  },
  {
   "cell_type": "code",
   "execution_count": 145,
   "outputs": [
    {
     "data": {
      "text/plain": "'2020-12-31'"
     },
     "execution_count": 145,
     "metadata": {},
     "output_type": "execute_result"
    }
   ],
   "source": [
    "min_time.strftime(\"%Y-%m-%d\")"
   ],
   "metadata": {
    "collapsed": false,
    "pycharm": {
     "name": "#%%\n"
    }
   }
  },
  {
   "cell_type": "code",
   "execution_count": 146,
   "outputs": [],
   "source": [
    "time_range = always_open_calendars.minutes_for_sessions_in_range(min_time.strftime(\"%Y-%m-%d\"), max_time.strftime(\"%Y-%m-%d\"))"
   ],
   "metadata": {
    "collapsed": false,
    "pycharm": {
     "name": "#%%\n"
    }
   }
  },
  {
   "cell_type": "code",
   "execution_count": 147,
   "outputs": [
    {
     "data": {
      "text/plain": "DatetimeIndex(['2020-12-31 00:00:00+00:00', '2020-12-31 00:01:00+00:00',\n               '2020-12-31 00:02:00+00:00', '2020-12-31 00:03:00+00:00',\n               '2020-12-31 00:04:00+00:00', '2020-12-31 00:05:00+00:00',\n               '2020-12-31 00:06:00+00:00', '2020-12-31 00:07:00+00:00',\n               '2020-12-31 00:08:00+00:00', '2020-12-31 00:09:00+00:00',\n               ...\n               '2022-03-17 23:50:00+00:00', '2022-03-17 23:51:00+00:00',\n               '2022-03-17 23:52:00+00:00', '2022-03-17 23:53:00+00:00',\n               '2022-03-17 23:54:00+00:00', '2022-03-17 23:55:00+00:00',\n               '2022-03-17 23:56:00+00:00', '2022-03-17 23:57:00+00:00',\n               '2022-03-17 23:58:00+00:00', '2022-03-17 23:59:00+00:00'],\n              dtype='datetime64[ns, UTC]', length=636480, freq=None)"
     },
     "execution_count": 147,
     "metadata": {},
     "output_type": "execute_result"
    }
   ],
   "source": [
    "time_range"
   ],
   "metadata": {
    "collapsed": false,
    "pycharm": {
     "name": "#%%\n"
    }
   }
  },
  {
   "cell_type": "code",
   "execution_count": 93,
   "outputs": [],
   "source": [
    "price = price.tz_localize('UTC')"
   ],
   "metadata": {
    "collapsed": false,
    "pycharm": {
     "name": "#%%\n"
    }
   }
  },
  {
   "cell_type": "markdown",
   "source": [
    "## Data Preprocessing"
   ],
   "metadata": {
    "collapsed": false,
    "pycharm": {
     "name": "#%% md\n"
    }
   }
  },
  {
   "cell_type": "code",
   "execution_count": 154,
   "outputs": [],
   "source": [
    "def preprocessing_data(ticker):\n",
    "    price = (pd.read_csv(f\"data/{ticker}.csv\", parse_dates=['candle_date_time_utc', 'candle_date_time_kst'])\n",
    "             .rename(columns={\n",
    "                    'candle_date_time_kst': 'date',\n",
    "                    'opening_price': 'open',\n",
    "                    'high_price': 'high',\n",
    "                    'low_price': 'low',\n",
    "                    'trade_price': 'close',\n",
    "                    'candle_acc_trade_volume': 'volume'\n",
    "                })\n",
    "             .set_index(['date'])\n",
    "             ).loc[:, ['open', 'high', 'low', 'close', 'volume']]\n",
    "    price = price.tz_localize('UTC')\n",
    "    # Get time range\n",
    "    min_time = price.index.min().strftime(\"%Y-%m-%d\")\n",
    "    max_time = price.index.max().strftime(\"%Y-%m-%d\")\n",
    "\n",
    "    time_range = always_open_calendars.minutes_for_sessions_in_range(min_time, max_time)\n",
    "\n",
    "    price = price.reindex(index=time_range)\n",
    "    # price = price.resample('1T').last()\n",
    "    ohlc = price[['high', 'low', 'open', 'close']].fillna(method='ffill')\n",
    "    v = price[['volume']].fillna(0)\n",
    "    return pd.concat([ohlc, v], axis=1).dropna()\n"
   ],
   "metadata": {
    "collapsed": false,
    "pycharm": {
     "name": "#%%\n"
    }
   }
  },
  {
   "cell_type": "markdown",
   "source": [
    "## Data Save"
   ],
   "metadata": {
    "collapsed": false,
    "pycharm": {
     "name": "#%% md\n"
    }
   }
  },
  {
   "cell_type": "code",
   "execution_count": 155,
   "outputs": [],
   "source": [
    "DATA_STORE = 'upbit.h5'"
   ],
   "metadata": {
    "collapsed": false,
    "pycharm": {
     "name": "#%%\n"
    }
   }
  },
  {
   "cell_type": "code",
   "execution_count": 156,
   "outputs": [
    {
     "name": "stderr",
     "output_type": "stream",
     "text": [
      " 18%|█▊        | 19/107 [00:18<01:40,  1.14s/it]"
     ]
    },
    {
     "name": "stdout",
     "output_type": "stream",
     "text": [
      "[Errno 2] No such file or directory: 'data/KRW-CELO.csv'\n"
     ]
    },
    {
     "name": "stderr",
     "output_type": "stream",
     "text": [
      "100%|██████████| 107/107 [01:50<00:00,  1.03s/it]\n"
     ]
    }
   ],
   "source": [
    "for sid, ticker, name in tqdm(equities.values):\n",
    "    try:\n",
    "        price = preprocessing_data(ticker)\n",
    "        with pd.HDFStore(DATA_STORE) as store:\n",
    "            store.put(key=f\"upbit/{sid}\", value=price)\n",
    "    except Exception as e:\n",
    "        print(e)"
   ],
   "metadata": {
    "collapsed": false,
    "pycharm": {
     "name": "#%%\n"
    }
   }
  },
  {
   "cell_type": "code",
   "execution_count": 157,
   "outputs": [],
   "source": [
    "def create_split_table():\n",
    "    with pd.HDFStore(DATA_STORE) as store:\n",
    "        store.put('upbit/splits', pd.DataFrame(columns=['sid', 'effective_date', 'ratio'], data=[[1, pd.to_datetime('2020-12-31'), 1.0]]), format='t')"
   ],
   "metadata": {
    "collapsed": false,
    "pycharm": {
     "name": "#%%\n"
    }
   }
  },
  {
   "cell_type": "code",
   "execution_count": 158,
   "outputs": [],
   "source": [
    "create_split_table()"
   ],
   "metadata": {
    "collapsed": false,
    "pycharm": {
     "name": "#%%\n"
    }
   }
  },
  {
   "cell_type": "code",
   "execution_count": 159,
   "outputs": [],
   "source": [
    "with pd.HDFStore(DATA_STORE) as store:\n",
    "    store.put(key='upbit/equities', value=equities)"
   ],
   "metadata": {
    "collapsed": false,
    "pycharm": {
     "name": "#%%\n"
    }
   }
  },
  {
   "cell_type": "markdown",
   "source": [
    "## Show result"
   ],
   "metadata": {
    "collapsed": false,
    "pycharm": {
     "name": "#%% md\n"
    }
   }
  },
  {
   "cell_type": "code",
   "execution_count": 160,
   "outputs": [
    {
     "name": "stdout",
     "output_type": "stream",
     "text": [
      "['/upbit/0', '/upbit/1', '/upbit/10', '/upbit/100', '/upbit/101', '/upbit/102', '/upbit/103', '/upbit/104', '/upbit/105', '/upbit/106', '/upbit/11', '/upbit/12', '/upbit/13', '/upbit/14', '/upbit/15', '/upbit/16', '/upbit/17', '/upbit/18', '/upbit/2', '/upbit/20', '/upbit/21', '/upbit/22', '/upbit/23', '/upbit/24', '/upbit/25', '/upbit/26', '/upbit/27', '/upbit/28', '/upbit/29', '/upbit/3', '/upbit/30', '/upbit/31', '/upbit/32', '/upbit/33', '/upbit/34', '/upbit/35', '/upbit/36', '/upbit/37', '/upbit/38', '/upbit/39', '/upbit/4', '/upbit/40', '/upbit/41', '/upbit/42', '/upbit/43', '/upbit/44', '/upbit/45', '/upbit/46', '/upbit/47', '/upbit/48', '/upbit/49', '/upbit/5', '/upbit/50', '/upbit/51', '/upbit/52', '/upbit/53', '/upbit/54', '/upbit/55', '/upbit/56', '/upbit/57', '/upbit/58', '/upbit/59', '/upbit/6', '/upbit/60', '/upbit/61', '/upbit/62', '/upbit/63', '/upbit/64', '/upbit/65', '/upbit/66', '/upbit/67', '/upbit/68', '/upbit/69', '/upbit/7', '/upbit/70', '/upbit/71', '/upbit/72', '/upbit/73', '/upbit/74', '/upbit/75', '/upbit/76', '/upbit/77', '/upbit/78', '/upbit/79', '/upbit/8', '/upbit/80', '/upbit/81', '/upbit/82', '/upbit/83', '/upbit/84', '/upbit/85', '/upbit/86', '/upbit/87', '/upbit/88', '/upbit/89', '/upbit/9', '/upbit/90', '/upbit/91', '/upbit/92', '/upbit/93', '/upbit/94', '/upbit/95', '/upbit/96', '/upbit/97', '/upbit/98', '/upbit/99', '/upbit/equities', '/upbit/splits']\n"
     ]
    }
   ],
   "source": [
    "with pd.HDFStore(DATA_STORE) as store:\n",
    "    print(store.keys())"
   ],
   "metadata": {
    "collapsed": false,
    "pycharm": {
     "name": "#%%\n"
    }
   }
  },
  {
   "cell_type": "code",
   "execution_count": 164,
   "outputs": [],
   "source": [
    "with pd.HDFStore(DATA_STORE) as store:\n",
    "    test = store['upbit/15']"
   ],
   "metadata": {
    "collapsed": false,
    "pycharm": {
     "name": "#%%\n"
    }
   }
  },
  {
   "cell_type": "code",
   "execution_count": 165,
   "outputs": [
    {
     "data": {
      "text/plain": "                                 high         low        open       close  \\\n2022-03-19 23:55:00+00:00  50849000.0  50723000.0  50833000.0  50770000.0   \n2022-03-19 23:56:00+00:00  50849000.0  50723000.0  50833000.0  50770000.0   \n2022-03-19 23:57:00+00:00  50849000.0  50723000.0  50833000.0  50770000.0   \n2022-03-19 23:58:00+00:00  50849000.0  50723000.0  50833000.0  50770000.0   \n2022-03-19 23:59:00+00:00  50849000.0  50723000.0  50833000.0  50770000.0   \n\n                           volume  \n2022-03-19 23:55:00+00:00     0.0  \n2022-03-19 23:56:00+00:00     0.0  \n2022-03-19 23:57:00+00:00     0.0  \n2022-03-19 23:58:00+00:00     0.0  \n2022-03-19 23:59:00+00:00     0.0  ",
      "text/html": "<div>\n<style scoped>\n    .dataframe tbody tr th:only-of-type {\n        vertical-align: middle;\n    }\n\n    .dataframe tbody tr th {\n        vertical-align: top;\n    }\n\n    .dataframe thead th {\n        text-align: right;\n    }\n</style>\n<table border=\"1\" class=\"dataframe\">\n  <thead>\n    <tr style=\"text-align: right;\">\n      <th></th>\n      <th>high</th>\n      <th>low</th>\n      <th>open</th>\n      <th>close</th>\n      <th>volume</th>\n    </tr>\n  </thead>\n  <tbody>\n    <tr>\n      <th>2022-03-19 23:55:00+00:00</th>\n      <td>50849000.0</td>\n      <td>50723000.0</td>\n      <td>50833000.0</td>\n      <td>50770000.0</td>\n      <td>0.0</td>\n    </tr>\n    <tr>\n      <th>2022-03-19 23:56:00+00:00</th>\n      <td>50849000.0</td>\n      <td>50723000.0</td>\n      <td>50833000.0</td>\n      <td>50770000.0</td>\n      <td>0.0</td>\n    </tr>\n    <tr>\n      <th>2022-03-19 23:57:00+00:00</th>\n      <td>50849000.0</td>\n      <td>50723000.0</td>\n      <td>50833000.0</td>\n      <td>50770000.0</td>\n      <td>0.0</td>\n    </tr>\n    <tr>\n      <th>2022-03-19 23:58:00+00:00</th>\n      <td>50849000.0</td>\n      <td>50723000.0</td>\n      <td>50833000.0</td>\n      <td>50770000.0</td>\n      <td>0.0</td>\n    </tr>\n    <tr>\n      <th>2022-03-19 23:59:00+00:00</th>\n      <td>50849000.0</td>\n      <td>50723000.0</td>\n      <td>50833000.0</td>\n      <td>50770000.0</td>\n      <td>0.0</td>\n    </tr>\n  </tbody>\n</table>\n</div>"
     },
     "execution_count": 165,
     "metadata": {},
     "output_type": "execute_result"
    }
   ],
   "source": [
    "test.tail()"
   ],
   "metadata": {
    "collapsed": false,
    "pycharm": {
     "name": "#%%\n"
    }
   }
  },
  {
   "cell_type": "code",
   "execution_count": 166,
   "outputs": [
    {
     "data": {
      "text/plain": "                                 high         low        open       close  \\\n2021-01-01 05:40:00+00:00  32097000.0  32096000.0  32097000.0  32097000.0   \n2021-01-01 05:41:00+00:00  32097000.0  32080000.0  32097000.0  32095000.0   \n2021-01-01 05:42:00+00:00  32098000.0  32059000.0  32095000.0  32098000.0   \n2021-01-01 05:43:00+00:00  32098000.0  32094000.0  32098000.0  32098000.0   \n2021-01-01 05:44:00+00:00  32071000.0  32049000.0  32071000.0  32049000.0   \n...                               ...         ...         ...         ...   \n2022-03-19 23:55:00+00:00  50849000.0  50723000.0  50833000.0  50770000.0   \n2022-03-19 23:56:00+00:00  50849000.0  50723000.0  50833000.0  50770000.0   \n2022-03-19 23:57:00+00:00  50849000.0  50723000.0  50833000.0  50770000.0   \n2022-03-19 23:58:00+00:00  50849000.0  50723000.0  50833000.0  50770000.0   \n2022-03-19 23:59:00+00:00  50849000.0  50723000.0  50833000.0  50770000.0   \n\n                             volume  \n2021-01-01 05:40:00+00:00  0.027209  \n2021-01-01 05:41:00+00:00  0.147304  \n2021-01-01 05:42:00+00:00  0.428093  \n2021-01-01 05:43:00+00:00  0.239791  \n2021-01-01 05:44:00+00:00  2.696126  \n...                             ...  \n2022-03-19 23:55:00+00:00  0.000000  \n2022-03-19 23:56:00+00:00  0.000000  \n2022-03-19 23:57:00+00:00  0.000000  \n2022-03-19 23:58:00+00:00  0.000000  \n2022-03-19 23:59:00+00:00  0.000000  \n\n[637580 rows x 5 columns]",
      "text/html": "<div>\n<style scoped>\n    .dataframe tbody tr th:only-of-type {\n        vertical-align: middle;\n    }\n\n    .dataframe tbody tr th {\n        vertical-align: top;\n    }\n\n    .dataframe thead th {\n        text-align: right;\n    }\n</style>\n<table border=\"1\" class=\"dataframe\">\n  <thead>\n    <tr style=\"text-align: right;\">\n      <th></th>\n      <th>high</th>\n      <th>low</th>\n      <th>open</th>\n      <th>close</th>\n      <th>volume</th>\n    </tr>\n  </thead>\n  <tbody>\n    <tr>\n      <th>2021-01-01 05:40:00+00:00</th>\n      <td>32097000.0</td>\n      <td>32096000.0</td>\n      <td>32097000.0</td>\n      <td>32097000.0</td>\n      <td>0.027209</td>\n    </tr>\n    <tr>\n      <th>2021-01-01 05:41:00+00:00</th>\n      <td>32097000.0</td>\n      <td>32080000.0</td>\n      <td>32097000.0</td>\n      <td>32095000.0</td>\n      <td>0.147304</td>\n    </tr>\n    <tr>\n      <th>2021-01-01 05:42:00+00:00</th>\n      <td>32098000.0</td>\n      <td>32059000.0</td>\n      <td>32095000.0</td>\n      <td>32098000.0</td>\n      <td>0.428093</td>\n    </tr>\n    <tr>\n      <th>2021-01-01 05:43:00+00:00</th>\n      <td>32098000.0</td>\n      <td>32094000.0</td>\n      <td>32098000.0</td>\n      <td>32098000.0</td>\n      <td>0.239791</td>\n    </tr>\n    <tr>\n      <th>2021-01-01 05:44:00+00:00</th>\n      <td>32071000.0</td>\n      <td>32049000.0</td>\n      <td>32071000.0</td>\n      <td>32049000.0</td>\n      <td>2.696126</td>\n    </tr>\n    <tr>\n      <th>...</th>\n      <td>...</td>\n      <td>...</td>\n      <td>...</td>\n      <td>...</td>\n      <td>...</td>\n    </tr>\n    <tr>\n      <th>2022-03-19 23:55:00+00:00</th>\n      <td>50849000.0</td>\n      <td>50723000.0</td>\n      <td>50833000.0</td>\n      <td>50770000.0</td>\n      <td>0.000000</td>\n    </tr>\n    <tr>\n      <th>2022-03-19 23:56:00+00:00</th>\n      <td>50849000.0</td>\n      <td>50723000.0</td>\n      <td>50833000.0</td>\n      <td>50770000.0</td>\n      <td>0.000000</td>\n    </tr>\n    <tr>\n      <th>2022-03-19 23:57:00+00:00</th>\n      <td>50849000.0</td>\n      <td>50723000.0</td>\n      <td>50833000.0</td>\n      <td>50770000.0</td>\n      <td>0.000000</td>\n    </tr>\n    <tr>\n      <th>2022-03-19 23:58:00+00:00</th>\n      <td>50849000.0</td>\n      <td>50723000.0</td>\n      <td>50833000.0</td>\n      <td>50770000.0</td>\n      <td>0.000000</td>\n    </tr>\n    <tr>\n      <th>2022-03-19 23:59:00+00:00</th>\n      <td>50849000.0</td>\n      <td>50723000.0</td>\n      <td>50833000.0</td>\n      <td>50770000.0</td>\n      <td>0.000000</td>\n    </tr>\n  </tbody>\n</table>\n<p>637580 rows × 5 columns</p>\n</div>"
     },
     "execution_count": 166,
     "metadata": {},
     "output_type": "execute_result"
    }
   ],
   "source": [
    "test"
   ],
   "metadata": {
    "collapsed": false,
    "pycharm": {
     "name": "#%%\n"
    }
   }
  },
  {
   "cell_type": "code",
   "execution_count": 169,
   "outputs": [
    {
     "data": {
      "text/plain": "    sid   ticker  name\n15   15  KRW-BTC  비트코인",
      "text/html": "<div>\n<style scoped>\n    .dataframe tbody tr th:only-of-type {\n        vertical-align: middle;\n    }\n\n    .dataframe tbody tr th {\n        vertical-align: top;\n    }\n\n    .dataframe thead th {\n        text-align: right;\n    }\n</style>\n<table border=\"1\" class=\"dataframe\">\n  <thead>\n    <tr style=\"text-align: right;\">\n      <th></th>\n      <th>sid</th>\n      <th>ticker</th>\n      <th>name</th>\n    </tr>\n  </thead>\n  <tbody>\n    <tr>\n      <th>15</th>\n      <td>15</td>\n      <td>KRW-BTC</td>\n      <td>비트코인</td>\n    </tr>\n  </tbody>\n</table>\n</div>"
     },
     "execution_count": 169,
     "metadata": {},
     "output_type": "execute_result"
    }
   ],
   "source": [
    "equities[equities['sid'] == 15]"
   ],
   "metadata": {
    "collapsed": false,
    "pycharm": {
     "name": "#%%\n"
    }
   }
  },
  {
   "cell_type": "code",
   "execution_count": null,
   "outputs": [],
   "source": [],
   "metadata": {
    "collapsed": false,
    "pycharm": {
     "name": "#%%\n"
    }
   }
  }
 ],
 "metadata": {
  "kernelspec": {
   "name": "python3",
   "language": "python",
   "display_name": "Python 3 (ipykernel)"
  },
  "language_info": {
   "codemirror_mode": {
    "name": "ipython",
    "version": 3
   },
   "file_extension": ".py",
   "mimetype": "text/x-python",
   "name": "python",
   "nbconvert_exporter": "python",
   "pygments_lexer": "ipython3",
   "version": "3.8.12"
  }
 },
 "nbformat": 4,
 "nbformat_minor": 5
}