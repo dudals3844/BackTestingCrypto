{
 "cells": [
  {
   "cell_type": "code",
   "execution_count": 29,
   "metadata": {
    "collapsed": true
   },
   "outputs": [],
   "source": [
    "import os\n",
    "from zipline.utils.run_algo import load_extensions"
   ]
  },
  {
   "cell_type": "code",
   "execution_count": 30,
   "outputs": [],
   "source": [
    "os.environ['ZIPLINE_ROOT'] = 'C:\\\\Users\\\\userpc\\\\.zipline'\n",
    "load_extensions(default=True,\n",
    "                extensions=[],\n",
    "                strict=True,\n",
    "                environ=None)"
   ],
   "metadata": {
    "collapsed": false,
    "pycharm": {
     "name": "#%%\n"
    }
   }
  },
  {
   "cell_type": "code",
   "execution_count": 31,
   "outputs": [
    {
     "name": "stdout",
     "output_type": "stream",
     "text": [
      "Merging minute equity files:\n",
      "Error: 'No object named upbit/19 in the file' KRW-CELO\n"
     ]
    },
    {
     "name": "stderr",
     "output_type": "stream",
     "text": [
      "[2022-03-21 03:48:05.730663] INFO: zipline.data.bundles.core: Ingesting upbit.\n",
      "[2022-03-21 03:48:08.050085] WARNING: MinuteBars: Values for sid=15, col=open contain some too large for uint32 (max=82690000000.0), filtering them out\n",
      "[2022-03-21 03:48:08.051082] WARNING: MinuteBars: Values for sid=15, col=high contain some too large for uint32 (max=82700000000.0), filtering them out\n",
      "[2022-03-21 03:48:08.051082] WARNING: MinuteBars: Values for sid=15, col=low contain some too large for uint32 (max=82619000000.0), filtering them out\n",
      "[2022-03-21 03:48:08.051082] WARNING: MinuteBars: Values for sid=15, col=close contain some too large for uint32 (max=82699000000.0), filtering them out\n",
      "[2022-03-21 03:48:10.527944] WARNING: MinuteBars: Values for sid=31, col=open contain some too large for uint32 (max=5895000000.0), filtering them out\n",
      "[2022-03-21 03:48:10.528985] WARNING: MinuteBars: Values for sid=31, col=high contain some too large for uint32 (max=5900000000.0), filtering them out\n",
      "[2022-03-21 03:48:10.528985] WARNING: MinuteBars: Values for sid=31, col=low contain some too large for uint32 (max=5894000000.0), filtering them out\n",
      "[2022-03-21 03:48:10.529975] WARNING: MinuteBars: Values for sid=31, col=close contain some too large for uint32 (max=5895000000.0), filtering them out\n"
     ]
    }
   ],
   "source": [
    "!zipline ingest -b upbit"
   ],
   "metadata": {
    "collapsed": false,
    "pycharm": {
     "name": "#%%\n"
    }
   }
  },
  {
   "cell_type": "code",
   "execution_count": 31,
   "outputs": [],
   "source": [],
   "metadata": {
    "collapsed": false,
    "pycharm": {
     "name": "#%%\n"
    }
   }
  }
 ],
 "metadata": {
  "kernelspec": {
   "display_name": "Python 3",
   "language": "python",
   "name": "python3"
  },
  "language_info": {
   "codemirror_mode": {
    "name": "ipython",
    "version": 2
   },
   "file_extension": ".py",
   "mimetype": "text/x-python",
   "name": "python",
   "nbconvert_exporter": "python",
   "pygments_lexer": "ipython2",
   "version": "2.7.6"
  }
 },
 "nbformat": 4,
 "nbformat_minor": 0
}